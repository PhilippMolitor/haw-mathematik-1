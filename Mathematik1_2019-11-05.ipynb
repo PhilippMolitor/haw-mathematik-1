{
 "cells": [
  {
   "cell_type": "markdown",
   "metadata": {},
   "source": [
    "# 1. Feststellen eines Körpers\n",
    "\n",
    "Wenn $P$ eine Primzahl ist, ist $\\mathbb{Z}/P\\mathbb{Z} = \\mathbb{Z}_{P}$ ein Körper.\n",
    "\n",
    "$\n",
    "x^2 - 1 = 0 \\implies x = 1 \\textrm{ oder } x = -1 \\\\\n",
    "x^2 = 1 \\implies x = 1 \\textrm{ oder } x = -1\n",
    "$\n",
    "\n",
    "$\n",
    "P - 1 \\quad \\frac{P-1}{2} \\quad \\frac{P-1}{4} \\quad \\textrm{...} \\quad r \\quad \\textrm{r ist ungerade}\n",
    "$\n",
    "\n",
    "$\n",
    "a^r , a^{2r} , ... , a^{\\frac{P-1}{2}} , a^{P-1} \\quad\\quad \\sqrt{P^n} = P^{\\frac{r^n}{2}}\n",
    "$"
   ]
  },
  {
   "cell_type": "markdown",
   "metadata": {},
   "source": [
    "---"
   ]
  },
  {
   "cell_type": "markdown",
   "metadata": {},
   "source": [
    "$P = 31$\n",
    "\n",
    "$\n",
    "P-1 = 30 \\\\\n",
    "\\frac{P-1}{2} = 15 \\quad _{\\textrm{(ungerade)}}\n",
    "$\n",
    "\n",
    "|  $a$| $a^{15}$| $a^{30}$|\n",
    "|---|-----|-----|\n",
    "|  3|   30|    1|\n",
    "|  5|    1|    1|"
   ]
  },
  {
   "cell_type": "code",
   "execution_count": null,
   "metadata": {},
   "outputs": [],
   "source": []
  }
 ],
 "metadata": {
  "kernelspec": {
   "display_name": "Python 3",
   "language": "python",
   "name": "python3"
  },
  "language_info": {
   "codemirror_mode": {
    "name": "ipython",
    "version": 3
   },
   "file_extension": ".py",
   "mimetype": "text/x-python",
   "name": "python",
   "nbconvert_exporter": "python",
   "pygments_lexer": "ipython3",
   "version": "3.7.3"
  }
 },
 "nbformat": 4,
 "nbformat_minor": 2
}
