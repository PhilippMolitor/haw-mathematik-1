{
 "cells": [
  {
   "cell_type": "markdown",
   "metadata": {},
   "source": [
    "# 1. Binär zu Dezimal"
   ]
  },
  {
   "cell_type": "code",
   "execution_count": 3,
   "metadata": {},
   "outputs": [
    {
     "data": {
      "text/plain": [
       "93"
      ]
     },
     "execution_count": 3,
     "metadata": {},
     "output_type": "execute_result"
    }
   ],
   "source": [
    "0b1011101"
   ]
  },
  {
   "cell_type": "code",
   "execution_count": 7,
   "metadata": {},
   "outputs": [
    {
     "data": {
      "text/plain": [
       "509"
      ]
     },
     "execution_count": 7,
     "metadata": {},
     "output_type": "execute_result"
    }
   ],
   "source": [
    "# = 1 1111 1111 - 10 = 511 - 2\n",
    "0b111111101"
   ]
  },
  {
   "cell_type": "markdown",
   "metadata": {},
   "source": [
    "# 2. Dezimal zu Binär"
   ]
  },
  {
   "cell_type": "code",
   "execution_count": 34,
   "metadata": {},
   "outputs": [
    {
     "data": {
      "text/plain": [
       "11110000011110011"
      ]
     },
     "execution_count": 34,
     "metadata": {},
     "output_type": "execute_result"
    }
   ],
   "source": [
    "# dez --> bin\n",
    "int('{:b}'.format(123123))"
   ]
  },
  {
   "cell_type": "markdown",
   "metadata": {},
   "source": [
    "# 3. Restklassenringe"
   ]
  },
  {
   "cell_type": "markdown",
   "metadata": {},
   "source": [
    "$\\mathbb{Z}/13\\mathbb{Z}:  x - 3 + 4 = 5 + 5 \\\\\n",
    "x + 1 = 10 \\\\\n",
    "x = 22 \\; \\textrm{, da }\\; 23 \\% 13 = 10 \\% 13\n",
    "\\\\\n",
    "10 = 10\n",
    "$"
   ]
  },
  {
   "cell_type": "code",
   "execution_count": 35,
   "metadata": {},
   "outputs": [
    {
     "data": {
      "text/plain": [
       "10"
      ]
     },
     "execution_count": 35,
     "metadata": {},
     "output_type": "execute_result"
    }
   ],
   "source": [
    "23 % 13"
   ]
  },
  {
   "cell_type": "markdown",
   "metadata": {},
   "source": [
    "$\n",
    "3*4 - 5*3 \\quad \\textrm{in} \\quad \\mathbb{Z}/6\\mathbb{Z} \\\\\n",
    "3*4 = 12 \\textrm{(mod 6)} = 0 \\\\\n",
    "5*3 = 15 \\textrm{(mod 6)} = 3 \\\\\n",
    "0 + (-3) = -3 \\\\\n",
    "\\\\\n",
    "6 + (-3) \\iff 6 = 3 \\% 6 = 3\n",
    "$"
   ]
  },
  {
   "cell_type": "code",
   "execution_count": 39,
   "metadata": {},
   "outputs": [
    {
     "data": {
      "text/plain": [
       "3"
      ]
     },
     "execution_count": 39,
     "metadata": {},
     "output_type": "execute_result"
    }
   ],
   "source": [
    "abs( ((3 * 4) % 6) - ((5 * 3) % 6) )"
   ]
  },
  {
   "cell_type": "markdown",
   "metadata": {},
   "source": [
    "---"
   ]
  },
  {
   "cell_type": "markdown",
   "metadata": {},
   "source": [
    "# 1. Euklidischer Algorithmus"
   ]
  },
  {
   "cell_type": "markdown",
   "metadata": {},
   "source": [
    "### d teilt a\n",
    "$\n",
    "d \\mid a \\iff k \\in \\mathbb{Z} , \\quad d*k = a\n",
    "$\n",
    "\n",
    "\"`d` teilt `a`, wenn eine Zahl `k * d = a` ist.\"\n",
    "\n",
    "Beispiel:\n",
    "\n",
    "$\n",
    "4 \\mid 8 \\iff 4 * 2 = 8 \\\\\n",
    "k = 2\n",
    "$"
   ]
  },
  {
   "cell_type": "markdown",
   "metadata": {},
   "source": [
    "### d teilt a und d teilt b\n",
    "\n",
    "$\n",
    "d \\mid a \\land d \\mid b \\implies d \\mid \\alpha a + \\beta b \\quad a,b \\in \\mathbb{Z} \\\\\n",
    "\\implies d \\mid a + b \\\\\n",
    "\\implies d \\mid a - b\n",
    "$"
   ]
  },
  {
   "cell_type": "markdown",
   "metadata": {},
   "source": [
    "### Größter gemeinsamer Teiler mit dem euklidischen Algorithmus\n",
    "\n",
    "$\n",
    "ggT(325, 125)\\\\\n",
    "325 - 125 = 200\\\\\n",
    "200 - 125 = 75\\\\\n",
    "75 - 50 = \\pmb{25}\\\\\n",
    "50 - 25 = \\pmb{25}\\\\\n",
    "25 - 25 = 0\n",
    "$\n",
    "\n",
    "$ggT(325, 125) = 25$\n",
    "\n",
    "---\n",
    "\n",
    "$\n",
    "ggT(18, 11)\\\\\n",
    "18 - 11 = 7\\\\\n",
    "11 - 7 = 4\\\\\n",
    "7 - 4 = 3\\\\\n",
    "4 - 3 = \\pmb{1}\\\\\n",
    "2 - 1 = \\pmb{1}\\\\\n",
    "1 - 1 = 0\n",
    "$\n",
    "\n",
    "$ggT(18, 11) = 1$"
   ]
  },
  {
   "cell_type": "markdown",
   "metadata": {},
   "source": [
    "# 2. Multiplikative Inverse"
   ]
  },
  {
   "cell_type": "markdown",
   "metadata": {},
   "source": [
    "Bei $\\mathbb{Z}/6\\mathbb{Z}$\n",
    "\n",
    "|$*$|1|2|3|4|5|6|\n",
    "|---|---|---|---|---|---|---|\n",
    "|__1__|$\\fbox{1}$|2|3|4|5|6|\n",
    "|__2__|2|4|6|$\\fbox{1}$|3|5|\n",
    "|__3__|3|6|2|5|$\\fbox{1}$|4|\n",
    "|__4__|4|$\\fbox{1}$|5|2|6|3|\n",
    "|__5__|5|3|$\\fbox{1}$|6|4|2|\n",
    "|__6__|6|5|4|3|2|$\\fbox{1}$|"
   ]
  },
  {
   "cell_type": "markdown",
   "metadata": {},
   "source": [
    "---"
   ]
  },
  {
   "cell_type": "markdown",
   "metadata": {},
   "source": [
    "$\n",
    "\\mathbb{Z}/17\\mathbb{Z}, \\quad 11^{-1} = ? \\\\\n",
    "$\n",
    "\n",
    "$\n",
    "17 - 11 = 6 \\\\\n",
    "11 - 6 = 5 \\\\\n",
    "6 - 4 = \\pmb{1} \\\\\n",
    "$\n",
    "\n",
    "$\n",
    "1 = 6 - 5 \\\\\n",
    "1 = 6 - (11 - 6) = 2 * 6 - 11 \\\\\n",
    "1 = 2 * (17 - 11) - 11 = 2 * 17 - 3 * 11 \\\\\n",
    "(-3) * 11 = (-2) * 17 + \\pmb{1} \\\\\n",
    "$\n",
    "\n",
    "$\n",
    "\\mathbb{Z}/17\\mathbb{Z}, \\quad 11^{-1} = \\fbox{1}\n",
    "$"
   ]
  },
  {
   "cell_type": "markdown",
   "metadata": {},
   "source": [
    "# 3. Fehlerkorrektur bei ISBN-10-Nummern"
   ]
  },
  {
   "cell_type": "markdown",
   "metadata": {},
   "source": [
    "Beispiel:\n",
    "$\n",
    "3-1622-0192-\\fbox{6} \\\\\n",
    "6 = \\textrm{Prüfziffer}\n",
    "$\n",
    "\n",
    "$\\mathbb{Z}/11\\mathbb{Z}$\n",
    "\n",
    "$\n",
    "a * b = a * c \\implies b = c \\\\\n",
    "a \\neq 0 \\land b \\neq 0 \\implies 0 * b \\neq 0\n",
    "$\n",
    "\n",
    "Kontraposition:\n",
    "\n",
    "$\n",
    "A \\implies B \\iff \\overline{B} \\implies \\overline{A}\n",
    "$\n",
    "\n",
    "|$A$|$B$|$\\overline{A}$|$\\overline{B}$|$A \\implies B$|$\\overline{B} \\implies \\overline{A}$|\n",
    "|---|--:|---|--:|---|---|\n",
    "|W|W|F|F|W|W|\n",
    "|W|F|F|W|F|W|\n",
    "|F|W|W|F|W|F|\n",
    "|F|F|W|W|W|W|\n",
    "\n",
    "$\n",
    "\\textbf{ISBN-10: } 316220192\\fbox{6} \\quad \\textrm{in } \\mathbb{Z}/11\\mathbb{Z} \\\\\n",
    "\\\\\n",
    "3*1 \\; 1*2 \\; 6*3 \\; 2*4 \\; 2*5 \\; 0*6 \\; 1*7 \\; 9*8 \\; 2*9 \\quad \\textrm{in } \\mathbb{Z} \\\\\n",
    "3 \\; 2 \\; 18 \\; 8 \\; 10 \\; 0 \\; 7 \\; 72 \\; 18 \\quad \\textrm{in } \\mathbb{Z} \\\\\n",
    "3 + 2 + 7 + 8 + 10 + 0 + 7 + 6 + 7 = \\fbox{6} \\quad \\textrm{in } \\mathbb{Z}//11\\mathbb{Z}\n",
    "$"
   ]
  },
  {
   "cell_type": "markdown",
   "metadata": {},
   "source": [
    "---"
   ]
  },
  {
   "cell_type": "code",
   "execution_count": 44,
   "metadata": {},
   "outputs": [
    {
     "data": {
      "text/plain": [
       "'AbcdEf 123!'"
      ]
     },
     "execution_count": 44,
     "metadata": {},
     "output_type": "execute_result"
    }
   ],
   "source": [
    "# string definieren\n",
    "a = 'AbcdEf 123!'\n",
    "a"
   ]
  },
  {
   "cell_type": "code",
   "execution_count": 45,
   "metadata": {},
   "outputs": [
    {
     "name": "stdout",
     "output_type": "stream",
     "text": [
      "A,b,c,D,e,f, ,1,2,3,"
     ]
    }
   ],
   "source": [
    "# durch strings iterieren\n",
    "for c in 'AbcDef 123':\n",
    "    print(c, end=',')"
   ]
  },
  {
   "cell_type": "code",
   "execution_count": 46,
   "metadata": {},
   "outputs": [
    {
     "data": {
      "text/plain": [
       "'571'"
      ]
     },
     "execution_count": 46,
     "metadata": {},
     "output_type": "execute_result"
    }
   ],
   "source": [
    "# zwei strings zusammenfügen\n",
    "'57' + '1'"
   ]
  },
  {
   "cell_type": "code",
   "execution_count": 47,
   "metadata": {},
   "outputs": [
    {
     "data": {
      "text/plain": [
       "13"
      ]
     },
     "execution_count": 47,
     "metadata": {},
     "output_type": "execute_result"
    }
   ],
   "source": [
    "# string zu integer konvertieren und dann addieren\n",
    "int('12') + 1"
   ]
  },
  {
   "cell_type": "code",
   "execution_count": 49,
   "metadata": {},
   "outputs": [
    {
     "ename": "TypeError",
     "evalue": "can only concatenate str (not \"int\") to str",
     "output_type": "error",
     "traceback": [
      "\u001b[0;31m---------------------------------------------------------------------------\u001b[0m",
      "\u001b[0;31mTypeError\u001b[0m                                 Traceback (most recent call last)",
      "\u001b[0;32m<ipython-input-49-4e372c9eee9f>\u001b[0m in \u001b[0;36m<module>\u001b[0;34m\u001b[0m\n\u001b[1;32m      1\u001b[0m \u001b[0;31m# geht so nicht\u001b[0m\u001b[0;34m\u001b[0m\u001b[0;34m\u001b[0m\u001b[0;34m\u001b[0m\u001b[0m\n\u001b[0;32m----> 2\u001b[0;31m \u001b[0;34m'12'\u001b[0m \u001b[0;34m+\u001b[0m \u001b[0;36m1\u001b[0m\u001b[0;34m\u001b[0m\u001b[0;34m\u001b[0m\u001b[0m\n\u001b[0m",
      "\u001b[0;31mTypeError\u001b[0m: can only concatenate str (not \"int\") to str"
     ]
    }
   ],
   "source": [
    "# geht so nicht\n",
    "'12' + 1"
   ]
  },
  {
   "cell_type": "code",
   "execution_count": 50,
   "metadata": {},
   "outputs": [
    {
     "data": {
      "text/plain": [
       "10"
      ]
     },
     "execution_count": 50,
     "metadata": {},
     "output_type": "execute_result"
    }
   ],
   "source": [
    "# mit anderer basis interpretieren\n",
    "int('a', 16)"
   ]
  },
  {
   "cell_type": "code",
   "execution_count": 53,
   "metadata": {},
   "outputs": [],
   "source": [
    "# ISBNs überprüfen\n",
    "def checkISBN(digits):\n",
    "    factor = 1\n",
    "    sum = 0\n",
    "    for d in digits:\n",
    "        sum += (factor * int(d)) % 11\n",
    "        factor += 1\n",
    "    return sum % 11"
   ]
  },
  {
   "cell_type": "code",
   "execution_count": 56,
   "metadata": {},
   "outputs": [
    {
     "data": {
      "text/plain": [
       "6"
      ]
     },
     "execution_count": 56,
     "metadata": {},
     "output_type": "execute_result"
    }
   ],
   "source": [
    "# soll 6 sein\n",
    "checkISBN('316220192')"
   ]
  },
  {
   "cell_type": "code",
   "execution_count": 57,
   "metadata": {},
   "outputs": [
    {
     "data": {
      "text/plain": [
       "4"
      ]
     },
     "execution_count": 57,
     "metadata": {},
     "output_type": "execute_result"
    }
   ],
   "source": [
    "# letzte stelle verändert\n",
    "checkISBN('316220193')"
   ]
  },
  {
   "cell_type": "code",
   "execution_count": 58,
   "metadata": {},
   "outputs": [
    {
     "data": {
      "text/plain": [
       "2"
      ]
     },
     "execution_count": 58,
     "metadata": {},
     "output_type": "execute_result"
    }
   ],
   "source": [
    "# letzte 2 stellen vertauscht\n",
    "checkISBN('316220129')"
   ]
  },
  {
   "cell_type": "code",
   "execution_count": null,
   "metadata": {},
   "outputs": [],
   "source": []
  }
 ],
 "metadata": {
  "kernelspec": {
   "display_name": "Python 3",
   "language": "python",
   "name": "python3"
  },
  "language_info": {
   "codemirror_mode": {
    "name": "ipython",
    "version": 3
   },
   "file_extension": ".py",
   "mimetype": "text/x-python",
   "name": "python",
   "nbconvert_exporter": "python",
   "pygments_lexer": "ipython3",
   "version": "3.7.3"
  }
 },
 "nbformat": 4,
 "nbformat_minor": 2
}
