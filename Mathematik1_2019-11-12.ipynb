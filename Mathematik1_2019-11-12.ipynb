{
 "cells": [
  {
   "cell_type": "markdown",
   "metadata": {},
   "source": [
    "# 1. Fließkommavergleiche"
   ]
  },
  {
   "cell_type": "code",
   "execution_count": 16,
   "metadata": {},
   "outputs": [],
   "source": [
    "def test_1(x, y):\n",
    "    if x + x + x == y:\n",
    "        print('Ha!')\n",
    "    else:\n",
    "        print('Oh!')"
   ]
  },
  {
   "cell_type": "code",
   "execution_count": 17,
   "metadata": {},
   "outputs": [
    {
     "name": "stdout",
     "output_type": "stream",
     "text": [
      "Ha!\n"
     ]
    }
   ],
   "source": [
    "test_1(2, 6)"
   ]
  },
  {
   "cell_type": "code",
   "execution_count": 18,
   "metadata": {},
   "outputs": [
    {
     "name": "stdout",
     "output_type": "stream",
     "text": [
      "Oh!\n"
     ]
    }
   ],
   "source": [
    "test_1(0.1, 0.3)"
   ]
  },
  {
   "cell_type": "code",
   "execution_count": 19,
   "metadata": {},
   "outputs": [],
   "source": [
    "def test_2(x, y):\n",
    "    if 3 * x == y:\n",
    "        print('Ha!')\n",
    "    else:\n",
    "        print('Oh!')"
   ]
  },
  {
   "cell_type": "code",
   "execution_count": 20,
   "metadata": {},
   "outputs": [
    {
     "name": "stdout",
     "output_type": "stream",
     "text": [
      "Ha!\n"
     ]
    }
   ],
   "source": [
    "test_2(2, 6)"
   ]
  },
  {
   "cell_type": "code",
   "execution_count": 21,
   "metadata": {},
   "outputs": [
    {
     "name": "stdout",
     "output_type": "stream",
     "text": [
      "Oh!\n"
     ]
    }
   ],
   "source": [
    "test_2(0.1, 0.3)"
   ]
  },
  {
   "cell_type": "code",
   "execution_count": 22,
   "metadata": {},
   "outputs": [],
   "source": [
    "def test_3(x, y):\n",
    "    if abs(3 * x - y) < 10**-1:\n",
    "        print('Ha!')\n",
    "    else:\n",
    "        print('Oh!')"
   ]
  },
  {
   "cell_type": "code",
   "execution_count": 23,
   "metadata": {},
   "outputs": [
    {
     "name": "stdout",
     "output_type": "stream",
     "text": [
      "Ha!\n"
     ]
    }
   ],
   "source": [
    "test_3(2, 6)"
   ]
  },
  {
   "cell_type": "code",
   "execution_count": 24,
   "metadata": {},
   "outputs": [
    {
     "name": "stdout",
     "output_type": "stream",
     "text": [
      "Ha!\n"
     ]
    }
   ],
   "source": [
    "test_3(0.1, 0.3)"
   ]
  },
  {
   "cell_type": "code",
   "execution_count": 25,
   "metadata": {},
   "outputs": [],
   "source": [
    "from math import isclose\n",
    "\n",
    "def test_4(x, y):\n",
    "    if isclose(3 * x, y):\n",
    "        print('Ha!')\n",
    "    else:\n",
    "        print('Oh!')"
   ]
  },
  {
   "cell_type": "code",
   "execution_count": 26,
   "metadata": {},
   "outputs": [
    {
     "name": "stdout",
     "output_type": "stream",
     "text": [
      "Ha!\n"
     ]
    }
   ],
   "source": [
    "test_4(2, 6)"
   ]
  },
  {
   "cell_type": "code",
   "execution_count": 15,
   "metadata": {},
   "outputs": [
    {
     "name": "stdout",
     "output_type": "stream",
     "text": [
      "Ha!\n"
     ]
    }
   ],
   "source": [
    "test_4(0.1, 0.3)"
   ]
  },
  {
   "cell_type": "code",
   "execution_count": 28,
   "metadata": {},
   "outputs": [
    {
     "data": {
      "text/plain": [
       "inf"
      ]
     },
     "execution_count": 28,
     "metadata": {},
     "output_type": "execute_result"
    }
   ],
   "source": [
    "import math\n",
    "\n",
    "10**100 / 10**-300"
   ]
  },
  {
   "cell_type": "code",
   "execution_count": 29,
   "metadata": {},
   "outputs": [
    {
     "data": {
      "text/plain": [
       "-inf"
      ]
     },
     "execution_count": 29,
     "metadata": {},
     "output_type": "execute_result"
    }
   ],
   "source": [
    "import math\n",
    "\n",
    "-10**100 / 10**-300"
   ]
  },
  {
   "cell_type": "code",
   "execution_count": 33,
   "metadata": {},
   "outputs": [
    {
     "name": "stdout",
     "output_type": "stream",
     "text": [
      "1 -> 0.1\n",
      "2 -> 0.2\n",
      "3 -> 0.30000000000000004\n",
      "4 -> 0.4\n",
      "5 -> 0.5\n",
      "6 -> 0.6\n",
      "7 -> 0.7\n",
      "8 -> 0.7999999999999999\n",
      "9 -> 0.8999999999999999\n",
      "10 -> 0.9999999999999999\n",
      "11 -> 1.0999999999999999\n",
      "12 -> 1.2\n",
      "13 -> 1.3\n",
      "14 -> 1.4000000000000001\n",
      "15 -> 1.5000000000000002\n",
      "16 -> 1.6000000000000003\n",
      "17 -> 1.7000000000000004\n",
      "18 -> 1.8000000000000005\n",
      "19 -> 1.9000000000000006\n",
      "20 -> 2.0000000000000004\n",
      "21 -> 2.1000000000000005\n",
      "22 -> 2.2000000000000006\n",
      "23 -> 2.3000000000000007\n",
      "24 -> 2.400000000000001\n",
      "25 -> 2.500000000000001\n",
      "26 -> 2.600000000000001\n",
      "27 -> 2.700000000000001\n",
      "28 -> 2.800000000000001\n",
      "29 -> 2.9000000000000012\n",
      "30 -> 3.0000000000000013\n",
      "31 -> 3.1000000000000014\n"
     ]
    },
    {
     "data": {
      "text/plain": [
       "31"
      ]
     },
     "execution_count": 33,
     "metadata": {},
     "output_type": "execute_result"
    }
   ],
   "source": [
    "c = 0\n",
    "x = 0.0\n",
    "\n",
    "while x != 2.0:\n",
    "    x += 0.1\n",
    "    c += 1\n",
    "    print('{} -> {}'.format(c, x))\n",
    "    \n",
    "    if c > 30:\n",
    "        break\n",
    "    \n",
    "c"
   ]
  },
  {
   "cell_type": "code",
   "execution_count": 37,
   "metadata": {},
   "outputs": [
    {
     "name": "stdout",
     "output_type": "stream",
     "text": [
      "9007199254740992.0\n",
      "9007199254740992.0\n",
      "9007199254740992.0\n",
      "9007199254740992.0\n",
      "9007199254740992.0\n",
      "9007199254740992.0\n"
     ]
    }
   ],
   "source": [
    "a = 2**53\n",
    "a *= 1.0\n",
    "b = a\n",
    "\n",
    "# exit counter\n",
    "c = 0\n",
    "\n",
    "while b == a:\n",
    "    b += 1\n",
    "    print(b)\n",
    "    \n",
    "    # exit counter\n",
    "    c += 1\n",
    "    if c > 5:\n",
    "        break\n",
    "    \n",
    "    "
   ]
  },
  {
   "cell_type": "markdown",
   "metadata": {},
   "source": [
    "# 2. Mengen in Python"
   ]
  },
  {
   "cell_type": "code",
   "execution_count": 39,
   "metadata": {},
   "outputs": [
    {
     "data": {
      "text/plain": [
       "{1, 2, 3, 4, 5, 6}"
      ]
     },
     "execution_count": 39,
     "metadata": {},
     "output_type": "execute_result"
    }
   ],
   "source": [
    "a = {1, 2, 3, 4, 5, 6}\n",
    "a"
   ]
  },
  {
   "cell_type": "code",
   "execution_count": 41,
   "metadata": {},
   "outputs": [
    {
     "data": {
      "text/plain": [
       "{1, 2, 3, 4}"
      ]
     },
     "execution_count": 41,
     "metadata": {},
     "output_type": "execute_result"
    }
   ],
   "source": [
    "b = {1, 2, 3, 4, 2, 1}\n",
    "b"
   ]
  },
  {
   "cell_type": "code",
   "execution_count": 42,
   "metadata": {},
   "outputs": [
    {
     "data": {
      "text/plain": [
       "False"
      ]
     },
     "execution_count": 42,
     "metadata": {},
     "output_type": "execute_result"
    }
   ],
   "source": [
    "a == b"
   ]
  },
  {
   "cell_type": "code",
   "execution_count": 48,
   "metadata": {},
   "outputs": [
    {
     "data": {
      "text/plain": [
       "True"
      ]
     },
     "execution_count": 48,
     "metadata": {},
     "output_type": "execute_result"
    }
   ],
   "source": [
    "{1, 1, 2, 3} == {1, 2, 3}"
   ]
  },
  {
   "cell_type": "code",
   "execution_count": 47,
   "metadata": {},
   "outputs": [
    {
     "data": {
      "text/plain": [
       "{0, 2, 4, 6, 8, 10, 12, 14, 16, 18, 20}"
      ]
     },
     "execution_count": 47,
     "metadata": {},
     "output_type": "execute_result"
    }
   ],
   "source": [
    "# erzeugen durch comprehension\n",
    "c = {x for x in range(20 + 1) if x % 2 == 0}\n",
    "c"
   ]
  }
 ],
 "metadata": {
  "kernelspec": {
   "display_name": "Python 3",
   "language": "python",
   "name": "python3"
  },
  "language_info": {
   "codemirror_mode": {
    "name": "ipython",
    "version": 3
   },
   "file_extension": ".py",
   "mimetype": "text/x-python",
   "name": "python",
   "nbconvert_exporter": "python",
   "pygments_lexer": "ipython3",
   "version": "3.7.3"
  }
 },
 "nbformat": 4,
 "nbformat_minor": 2
}
